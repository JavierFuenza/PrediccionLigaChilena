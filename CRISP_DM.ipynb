{
  "nbformat": 4,
  "nbformat_minor": 0,
  "metadata": {
    "colab": {
      "provenance": [],
      "authorship_tag": "ABX9TyPALKFxswwZdQ8e3xvcEFhR",
      "include_colab_link": true
    },
    "kernelspec": {
      "name": "python3",
      "display_name": "Python 3"
    },
    "language_info": {
      "name": "python"
    }
  },
  "cells": [
    {
      "cell_type": "markdown",
      "metadata": {
        "id": "view-in-github",
        "colab_type": "text"
      },
      "source": [
        "<a href=\"https://colab.research.google.com/github/JavierFuenza/PrediccionLigaChilena/blob/main/CRISP_DM.ipynb\" target=\"_parent\"><img src=\"https://colab.research.google.com/assets/colab-badge.svg\" alt=\"Open In Colab\"/></a>"
      ]
    },
    {
      "cell_type": "markdown",
      "source": [
        "# Buisness Understanding"
      ],
      "metadata": {
        "id": "z8omDtCGt0gG"
      }
    },
    {
      "cell_type": "markdown",
      "source": [
        "\n",
        "  El objetivo de este cuaderno es intentar encontrar una forma de predecir partidos de futbol con algoritmos de ML\n"
      ],
      "metadata": {
        "id": "hkycypNuumT9"
      }
    },
    {
      "cell_type": "markdown",
      "source": [
        "# Data Understanding\n"
      ],
      "metadata": {
        "id": "iAbxcjAzuFj2"
      }
    },
    {
      "cell_type": "markdown",
      "source": [
        "Los datos que ocupare fueron sacados de [Fbref](https://fbref.com/ ), estos son todos los partidos de la primera division desde el 2021 hasta el 2023"
      ],
      "metadata": {
        "id": "F75EYknZw3KQ"
      }
    },
    {
      "cell_type": "markdown",
      "source": [
        "## Importacion de librerias"
      ],
      "metadata": {
        "id": "lXZnyVP6y9P3"
      }
    },
    {
      "cell_type": "code",
      "source": [
        "import pandas as pd\n",
        "import numpy as np"
      ],
      "metadata": {
        "id": "XHn1DzZHxvKA"
      },
      "execution_count": 1,
      "outputs": []
    },
    {
      "cell_type": "markdown",
      "source": [
        "## Creacion de DataFrame"
      ],
      "metadata": {
        "id": "Znw6MZIgzDPD"
      }
    },
    {
      "cell_type": "code",
      "source": [
        "df = pd.read_csv('datos.csv')"
      ],
      "metadata": {
        "id": "hl_C1v07zCC2"
      },
      "execution_count": null,
      "outputs": []
    },
    {
      "cell_type": "markdown",
      "source": [
        "# Data Preparation"
      ],
      "metadata": {
        "id": "oG7orU7EuJyu"
      }
    },
    {
      "cell_type": "markdown",
      "source": [
        "# Modeling"
      ],
      "metadata": {
        "id": "J-8Enx6cuMOl"
      }
    },
    {
      "cell_type": "markdown",
      "source": [
        "# Evaluation\n"
      ],
      "metadata": {
        "id": "f7dS_ipMuPbq"
      }
    },
    {
      "cell_type": "code",
      "execution_count": null,
      "metadata": {
        "id": "X-ssTtHItcIR"
      },
      "outputs": [],
      "source": []
    }
  ]
}